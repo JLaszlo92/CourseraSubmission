{
 "cells": [
  {
   "cell_type": "markdown",
   "id": "0c984a16-08fa-4874-b4c2-7df43824b37f",
   "metadata": {},
   "source": [
    "Question 1: Use yfinance to Extract Stock Data\n",
    "\n",
    "Reset the index, save, and display the first five rows of the tesla_data dataframe using the head function. Upload a screenshot of the results and code from the beginning of Question 1 to the results below."
   ]
  },
  {
   "cell_type": "code",
   "execution_count": 9,
   "id": "8649f0d2-5fa9-451c-8cda-62def796f042",
   "metadata": {
    "tags": []
   },
   "outputs": [],
   "source": [
    "import yfinance as yf\n",
    "import pandas as pd"
   ]
  },
  {
   "cell_type": "code",
   "execution_count": 10,
   "id": "e1e00492-3427-44d4-a799-e52ddf909413",
   "metadata": {
    "tags": []
   },
   "outputs": [],
   "source": [
    "tesla = yf.Ticker(\"TSLA\")"
   ]
  },
  {
   "cell_type": "code",
   "execution_count": 11,
   "id": "044411ba-5320-458c-8b97-101bd8cc3d05",
   "metadata": {
    "tags": []
   },
   "outputs": [],
   "source": [
    "tesla_share_price_data = tesla.history(period=\"max\")\n",
    "tesla_share_price_data.reset_index(inplace=True)"
   ]
  },
  {
   "cell_type": "code",
   "execution_count": 12,
   "id": "bd7f6f44-21bb-428a-87cc-cb7bbbb34843",
   "metadata": {
    "tags": []
   },
   "outputs": [
    {
     "data": {
      "text/html": [
       "<div>\n",
       "<style scoped>\n",
       "    .dataframe tbody tr th:only-of-type {\n",
       "        vertical-align: middle;\n",
       "    }\n",
       "\n",
       "    .dataframe tbody tr th {\n",
       "        vertical-align: top;\n",
       "    }\n",
       "\n",
       "    .dataframe thead th {\n",
       "        text-align: right;\n",
       "    }\n",
       "</style>\n",
       "<table border=\"1\" class=\"dataframe\">\n",
       "  <thead>\n",
       "    <tr style=\"text-align: right;\">\n",
       "      <th></th>\n",
       "      <th>Date</th>\n",
       "      <th>Open</th>\n",
       "      <th>High</th>\n",
       "      <th>Low</th>\n",
       "      <th>Close</th>\n",
       "      <th>Volume</th>\n",
       "      <th>Dividends</th>\n",
       "      <th>Stock Splits</th>\n",
       "    </tr>\n",
       "  </thead>\n",
       "  <tbody>\n",
       "    <tr>\n",
       "      <th>0</th>\n",
       "      <td>2010-06-29 00:00:00-04:00</td>\n",
       "      <td>1.266667</td>\n",
       "      <td>1.666667</td>\n",
       "      <td>1.169333</td>\n",
       "      <td>1.592667</td>\n",
       "      <td>281494500</td>\n",
       "      <td>0.0</td>\n",
       "      <td>0.0</td>\n",
       "    </tr>\n",
       "    <tr>\n",
       "      <th>1</th>\n",
       "      <td>2010-06-30 00:00:00-04:00</td>\n",
       "      <td>1.719333</td>\n",
       "      <td>2.028000</td>\n",
       "      <td>1.553333</td>\n",
       "      <td>1.588667</td>\n",
       "      <td>257806500</td>\n",
       "      <td>0.0</td>\n",
       "      <td>0.0</td>\n",
       "    </tr>\n",
       "    <tr>\n",
       "      <th>2</th>\n",
       "      <td>2010-07-01 00:00:00-04:00</td>\n",
       "      <td>1.666667</td>\n",
       "      <td>1.728000</td>\n",
       "      <td>1.351333</td>\n",
       "      <td>1.464000</td>\n",
       "      <td>123282000</td>\n",
       "      <td>0.0</td>\n",
       "      <td>0.0</td>\n",
       "    </tr>\n",
       "    <tr>\n",
       "      <th>3</th>\n",
       "      <td>2010-07-02 00:00:00-04:00</td>\n",
       "      <td>1.533333</td>\n",
       "      <td>1.540000</td>\n",
       "      <td>1.247333</td>\n",
       "      <td>1.280000</td>\n",
       "      <td>77097000</td>\n",
       "      <td>0.0</td>\n",
       "      <td>0.0</td>\n",
       "    </tr>\n",
       "    <tr>\n",
       "      <th>4</th>\n",
       "      <td>2010-07-06 00:00:00-04:00</td>\n",
       "      <td>1.333333</td>\n",
       "      <td>1.333333</td>\n",
       "      <td>1.055333</td>\n",
       "      <td>1.074000</td>\n",
       "      <td>103003500</td>\n",
       "      <td>0.0</td>\n",
       "      <td>0.0</td>\n",
       "    </tr>\n",
       "  </tbody>\n",
       "</table>\n",
       "</div>"
      ],
      "text/plain": [
       "                       Date      Open      High       Low     Close  \\\n",
       "0 2010-06-29 00:00:00-04:00  1.266667  1.666667  1.169333  1.592667   \n",
       "1 2010-06-30 00:00:00-04:00  1.719333  2.028000  1.553333  1.588667   \n",
       "2 2010-07-01 00:00:00-04:00  1.666667  1.728000  1.351333  1.464000   \n",
       "3 2010-07-02 00:00:00-04:00  1.533333  1.540000  1.247333  1.280000   \n",
       "4 2010-07-06 00:00:00-04:00  1.333333  1.333333  1.055333  1.074000   \n",
       "\n",
       "      Volume  Dividends  Stock Splits  \n",
       "0  281494500        0.0           0.0  \n",
       "1  257806500        0.0           0.0  \n",
       "2  123282000        0.0           0.0  \n",
       "3   77097000        0.0           0.0  \n",
       "4  103003500        0.0           0.0  "
      ]
     },
     "execution_count": 12,
     "metadata": {},
     "output_type": "execute_result"
    }
   ],
   "source": [
    "tesla_share_price_data.head()"
   ]
  },
  {
   "cell_type": "markdown",
   "id": "b1f56b72-cd09-4524-93fe-13465db868be",
   "metadata": {},
   "source": [
    "Question 2: Use Webscraping to Extract Tesla Revenue Data\n",
    "\n",
    "Display the last five rows of the tesla_revenue dataframe using the tail function. Upload a screenshot of the results."
   ]
  },
  {
   "cell_type": "code",
   "execution_count": 13,
   "id": "2584d869-7d66-4b69-b8b6-a7c5e5292121",
   "metadata": {
    "tags": []
   },
   "outputs": [
    {
     "data": {
      "text/html": [
       "<div>\n",
       "<style scoped>\n",
       "    .dataframe tbody tr th:only-of-type {\n",
       "        vertical-align: middle;\n",
       "    }\n",
       "\n",
       "    .dataframe tbody tr th {\n",
       "        vertical-align: top;\n",
       "    }\n",
       "\n",
       "    .dataframe thead th {\n",
       "        text-align: right;\n",
       "    }\n",
       "</style>\n",
       "<table border=\"1\" class=\"dataframe\">\n",
       "  <thead>\n",
       "    <tr style=\"text-align: right;\">\n",
       "      <th></th>\n",
       "      <th>Date</th>\n",
       "      <th>Open</th>\n",
       "      <th>High</th>\n",
       "      <th>Low</th>\n",
       "      <th>Close</th>\n",
       "      <th>Volume</th>\n",
       "      <th>Dividends</th>\n",
       "      <th>Stock Splits</th>\n",
       "    </tr>\n",
       "  </thead>\n",
       "  <tbody>\n",
       "    <tr>\n",
       "      <th>3467</th>\n",
       "      <td>2024-04-09 00:00:00-04:00</td>\n",
       "      <td>172.910004</td>\n",
       "      <td>179.220001</td>\n",
       "      <td>171.919998</td>\n",
       "      <td>176.880005</td>\n",
       "      <td>103232700</td>\n",
       "      <td>0.0</td>\n",
       "      <td>0.0</td>\n",
       "    </tr>\n",
       "    <tr>\n",
       "      <th>3468</th>\n",
       "      <td>2024-04-10 00:00:00-04:00</td>\n",
       "      <td>173.039993</td>\n",
       "      <td>174.929993</td>\n",
       "      <td>170.009995</td>\n",
       "      <td>171.759995</td>\n",
       "      <td>84532400</td>\n",
       "      <td>0.0</td>\n",
       "      <td>0.0</td>\n",
       "    </tr>\n",
       "    <tr>\n",
       "      <th>3469</th>\n",
       "      <td>2024-04-11 00:00:00-04:00</td>\n",
       "      <td>172.550003</td>\n",
       "      <td>175.880005</td>\n",
       "      <td>168.509995</td>\n",
       "      <td>174.600006</td>\n",
       "      <td>94516000</td>\n",
       "      <td>0.0</td>\n",
       "      <td>0.0</td>\n",
       "    </tr>\n",
       "    <tr>\n",
       "      <th>3470</th>\n",
       "      <td>2024-04-12 00:00:00-04:00</td>\n",
       "      <td>172.339996</td>\n",
       "      <td>173.809998</td>\n",
       "      <td>170.360001</td>\n",
       "      <td>171.050003</td>\n",
       "      <td>64506600</td>\n",
       "      <td>0.0</td>\n",
       "      <td>0.0</td>\n",
       "    </tr>\n",
       "    <tr>\n",
       "      <th>3471</th>\n",
       "      <td>2024-04-15 00:00:00-04:00</td>\n",
       "      <td>170.240005</td>\n",
       "      <td>170.690002</td>\n",
       "      <td>161.380005</td>\n",
       "      <td>161.479996</td>\n",
       "      <td>99744400</td>\n",
       "      <td>0.0</td>\n",
       "      <td>0.0</td>\n",
       "    </tr>\n",
       "  </tbody>\n",
       "</table>\n",
       "</div>"
      ],
      "text/plain": [
       "                          Date        Open        High         Low  \\\n",
       "3467 2024-04-09 00:00:00-04:00  172.910004  179.220001  171.919998   \n",
       "3468 2024-04-10 00:00:00-04:00  173.039993  174.929993  170.009995   \n",
       "3469 2024-04-11 00:00:00-04:00  172.550003  175.880005  168.509995   \n",
       "3470 2024-04-12 00:00:00-04:00  172.339996  173.809998  170.360001   \n",
       "3471 2024-04-15 00:00:00-04:00  170.240005  170.690002  161.380005   \n",
       "\n",
       "           Close     Volume  Dividends  Stock Splits  \n",
       "3467  176.880005  103232700        0.0           0.0  \n",
       "3468  171.759995   84532400        0.0           0.0  \n",
       "3469  174.600006   94516000        0.0           0.0  \n",
       "3470  171.050003   64506600        0.0           0.0  \n",
       "3471  161.479996   99744400        0.0           0.0  "
      ]
     },
     "execution_count": 13,
     "metadata": {},
     "output_type": "execute_result"
    }
   ],
   "source": [
    "tesla_share_price_data.tail()"
   ]
  },
  {
   "cell_type": "markdown",
   "id": "fbc4845f-0f4d-44d1-90f7-a88474d52ce6",
   "metadata": {
    "tags": []
   },
   "source": [
    "Question 3: Use yfinance to Extract Stock Data\n",
    "\n",
    "Reset the index, save, and display the first five rows of the gme_data dataframe using the head function. Upload a screenshot of the results and code from the beginning of Question 1 to the results below."
   ]
  },
  {
   "cell_type": "code",
   "execution_count": 15,
   "id": "3aa37016-8fae-4cfc-b2e6-2bcc02602293",
   "metadata": {
    "tags": []
   },
   "outputs": [],
   "source": [
    "gme = yf.Ticker(\"GME\")"
   ]
  },
  {
   "cell_type": "code",
   "execution_count": 16,
   "id": "aa349899-c2c8-4c27-9bd9-b93588808af8",
   "metadata": {
    "tags": []
   },
   "outputs": [],
   "source": [
    "gme_share_price_data = gme.history(period=\"max\")\n",
    "gme_share_price_data.reset_index(inplace=True)"
   ]
  },
  {
   "cell_type": "code",
   "execution_count": 17,
   "id": "2ab3bb51-a8bb-4044-a920-ae8dae9d3c9d",
   "metadata": {
    "tags": []
   },
   "outputs": [
    {
     "data": {
      "text/html": [
       "<div>\n",
       "<style scoped>\n",
       "    .dataframe tbody tr th:only-of-type {\n",
       "        vertical-align: middle;\n",
       "    }\n",
       "\n",
       "    .dataframe tbody tr th {\n",
       "        vertical-align: top;\n",
       "    }\n",
       "\n",
       "    .dataframe thead th {\n",
       "        text-align: right;\n",
       "    }\n",
       "</style>\n",
       "<table border=\"1\" class=\"dataframe\">\n",
       "  <thead>\n",
       "    <tr style=\"text-align: right;\">\n",
       "      <th></th>\n",
       "      <th>Date</th>\n",
       "      <th>Open</th>\n",
       "      <th>High</th>\n",
       "      <th>Low</th>\n",
       "      <th>Close</th>\n",
       "      <th>Volume</th>\n",
       "      <th>Dividends</th>\n",
       "      <th>Stock Splits</th>\n",
       "    </tr>\n",
       "  </thead>\n",
       "  <tbody>\n",
       "    <tr>\n",
       "      <th>0</th>\n",
       "      <td>2002-02-13 00:00:00-05:00</td>\n",
       "      <td>1.620128</td>\n",
       "      <td>1.693350</td>\n",
       "      <td>1.603296</td>\n",
       "      <td>1.691666</td>\n",
       "      <td>76216000</td>\n",
       "      <td>0.0</td>\n",
       "      <td>0.0</td>\n",
       "    </tr>\n",
       "    <tr>\n",
       "      <th>1</th>\n",
       "      <td>2002-02-14 00:00:00-05:00</td>\n",
       "      <td>1.712707</td>\n",
       "      <td>1.716074</td>\n",
       "      <td>1.670626</td>\n",
       "      <td>1.683250</td>\n",
       "      <td>11021600</td>\n",
       "      <td>0.0</td>\n",
       "      <td>0.0</td>\n",
       "    </tr>\n",
       "    <tr>\n",
       "      <th>2</th>\n",
       "      <td>2002-02-15 00:00:00-05:00</td>\n",
       "      <td>1.683250</td>\n",
       "      <td>1.687458</td>\n",
       "      <td>1.658002</td>\n",
       "      <td>1.674834</td>\n",
       "      <td>8389600</td>\n",
       "      <td>0.0</td>\n",
       "      <td>0.0</td>\n",
       "    </tr>\n",
       "    <tr>\n",
       "      <th>3</th>\n",
       "      <td>2002-02-19 00:00:00-05:00</td>\n",
       "      <td>1.666418</td>\n",
       "      <td>1.666418</td>\n",
       "      <td>1.578047</td>\n",
       "      <td>1.607504</td>\n",
       "      <td>7410400</td>\n",
       "      <td>0.0</td>\n",
       "      <td>0.0</td>\n",
       "    </tr>\n",
       "    <tr>\n",
       "      <th>4</th>\n",
       "      <td>2002-02-20 00:00:00-05:00</td>\n",
       "      <td>1.615921</td>\n",
       "      <td>1.662210</td>\n",
       "      <td>1.603296</td>\n",
       "      <td>1.662210</td>\n",
       "      <td>6892800</td>\n",
       "      <td>0.0</td>\n",
       "      <td>0.0</td>\n",
       "    </tr>\n",
       "  </tbody>\n",
       "</table>\n",
       "</div>"
      ],
      "text/plain": [
       "                       Date      Open      High       Low     Close    Volume  \\\n",
       "0 2002-02-13 00:00:00-05:00  1.620128  1.693350  1.603296  1.691666  76216000   \n",
       "1 2002-02-14 00:00:00-05:00  1.712707  1.716074  1.670626  1.683250  11021600   \n",
       "2 2002-02-15 00:00:00-05:00  1.683250  1.687458  1.658002  1.674834   8389600   \n",
       "3 2002-02-19 00:00:00-05:00  1.666418  1.666418  1.578047  1.607504   7410400   \n",
       "4 2002-02-20 00:00:00-05:00  1.615921  1.662210  1.603296  1.662210   6892800   \n",
       "\n",
       "   Dividends  Stock Splits  \n",
       "0        0.0           0.0  \n",
       "1        0.0           0.0  \n",
       "2        0.0           0.0  \n",
       "3        0.0           0.0  \n",
       "4        0.0           0.0  "
      ]
     },
     "execution_count": 17,
     "metadata": {},
     "output_type": "execute_result"
    }
   ],
   "source": [
    "gme_share_price_data.head()"
   ]
  },
  {
   "cell_type": "markdown",
   "id": "95732442-bd88-4837-a823-dea043c8ce92",
   "metadata": {
    "tags": []
   },
   "source": [
    "Question 4: Use Webscraping to Extract GME Revenue Data\n",
    "\n",
    "Display the last five rows of the gme_revenue dataframe using the tail function. Upload a screenshot of the results."
   ]
  },
  {
   "cell_type": "code",
   "execution_count": 18,
   "id": "3786eff8-59ed-4deb-9e3e-4ae4020af963",
   "metadata": {
    "tags": []
   },
   "outputs": [
    {
     "data": {
      "text/html": [
       "<div>\n",
       "<style scoped>\n",
       "    .dataframe tbody tr th:only-of-type {\n",
       "        vertical-align: middle;\n",
       "    }\n",
       "\n",
       "    .dataframe tbody tr th {\n",
       "        vertical-align: top;\n",
       "    }\n",
       "\n",
       "    .dataframe thead th {\n",
       "        text-align: right;\n",
       "    }\n",
       "</style>\n",
       "<table border=\"1\" class=\"dataframe\">\n",
       "  <thead>\n",
       "    <tr style=\"text-align: right;\">\n",
       "      <th></th>\n",
       "      <th>Date</th>\n",
       "      <th>Open</th>\n",
       "      <th>High</th>\n",
       "      <th>Low</th>\n",
       "      <th>Close</th>\n",
       "      <th>Volume</th>\n",
       "      <th>Dividends</th>\n",
       "      <th>Stock Splits</th>\n",
       "    </tr>\n",
       "  </thead>\n",
       "  <tbody>\n",
       "    <tr>\n",
       "      <th>5575</th>\n",
       "      <td>2024-04-09 00:00:00-04:00</td>\n",
       "      <td>10.85</td>\n",
       "      <td>11.18</td>\n",
       "      <td>10.73</td>\n",
       "      <td>11.01</td>\n",
       "      <td>3514400</td>\n",
       "      <td>0.0</td>\n",
       "      <td>0.0</td>\n",
       "    </tr>\n",
       "    <tr>\n",
       "      <th>5576</th>\n",
       "      <td>2024-04-10 00:00:00-04:00</td>\n",
       "      <td>10.90</td>\n",
       "      <td>11.07</td>\n",
       "      <td>10.75</td>\n",
       "      <td>10.85</td>\n",
       "      <td>3546200</td>\n",
       "      <td>0.0</td>\n",
       "      <td>0.0</td>\n",
       "    </tr>\n",
       "    <tr>\n",
       "      <th>5577</th>\n",
       "      <td>2024-04-11 00:00:00-04:00</td>\n",
       "      <td>10.91</td>\n",
       "      <td>11.39</td>\n",
       "      <td>10.80</td>\n",
       "      <td>11.29</td>\n",
       "      <td>3802100</td>\n",
       "      <td>0.0</td>\n",
       "      <td>0.0</td>\n",
       "    </tr>\n",
       "    <tr>\n",
       "      <th>5578</th>\n",
       "      <td>2024-04-12 00:00:00-04:00</td>\n",
       "      <td>11.21</td>\n",
       "      <td>11.23</td>\n",
       "      <td>10.76</td>\n",
       "      <td>10.77</td>\n",
       "      <td>3196300</td>\n",
       "      <td>0.0</td>\n",
       "      <td>0.0</td>\n",
       "    </tr>\n",
       "    <tr>\n",
       "      <th>5579</th>\n",
       "      <td>2024-04-15 00:00:00-04:00</td>\n",
       "      <td>10.81</td>\n",
       "      <td>10.84</td>\n",
       "      <td>10.06</td>\n",
       "      <td>10.06</td>\n",
       "      <td>5071800</td>\n",
       "      <td>0.0</td>\n",
       "      <td>0.0</td>\n",
       "    </tr>\n",
       "  </tbody>\n",
       "</table>\n",
       "</div>"
      ],
      "text/plain": [
       "                          Date   Open   High    Low  Close   Volume  \\\n",
       "5575 2024-04-09 00:00:00-04:00  10.85  11.18  10.73  11.01  3514400   \n",
       "5576 2024-04-10 00:00:00-04:00  10.90  11.07  10.75  10.85  3546200   \n",
       "5577 2024-04-11 00:00:00-04:00  10.91  11.39  10.80  11.29  3802100   \n",
       "5578 2024-04-12 00:00:00-04:00  11.21  11.23  10.76  10.77  3196300   \n",
       "5579 2024-04-15 00:00:00-04:00  10.81  10.84  10.06  10.06  5071800   \n",
       "\n",
       "      Dividends  Stock Splits  \n",
       "5575        0.0           0.0  \n",
       "5576        0.0           0.0  \n",
       "5577        0.0           0.0  \n",
       "5578        0.0           0.0  \n",
       "5579        0.0           0.0  "
      ]
     },
     "execution_count": 18,
     "metadata": {},
     "output_type": "execute_result"
    }
   ],
   "source": [
    "gme_share_price_data.tail()"
   ]
  },
  {
   "cell_type": "markdown",
   "id": "d4fe5746-19cb-4bbd-b43b-10142a0474a9",
   "metadata": {},
   "source": [
    "Question 5: Plot Tesla Stock Graph\n",
    "\n",
    "Use the make_graph function to graph the Tesla Stock Data, also provide a title for the graph.\n",
    "\n",
    "Upload a screenshot of your results."
   ]
  },
  {
   "cell_type": "code",
   "execution_count": 22,
   "id": "418c4c6a-a994-4134-a639-506b5fa06711",
   "metadata": {
    "tags": []
   },
   "outputs": [
    {
     "data": {
      "text/plain": [
       "<AxesSubplot:title={'center':'Tesla'}, xlabel='Date'>"
      ]
     },
     "execution_count": 22,
     "metadata": {},
     "output_type": "execute_result"
    },
    {
     "data": {
      "image/png": "[encoded data removed]",
      "text/plain": [
       "<Figure size 640x480 with 1 Axes>"
      ]
     },
     "metadata": {},
     "output_type": "display_data"
    }
   ],
   "source": [
    "tesla_share_price_data.plot(x=\"Date\", y=\"Open\", title=\"Tesla\")"
   ]
  },
  {
   "cell_type": "markdown",
   "id": "e4d3c3b2-7c9f-4013-a520-24f3aa23b587",
   "metadata": {},
   "source": [
    "Question 6: Plot GameStop Stock Graph\n",
    "\n",
    "Use the make_graph function to graph the GameStop Stock Data, also provide a title for the graph.\n",
    "\n",
    "Upload a screenshot of your results."
   ]
  },
  {
   "cell_type": "code",
   "execution_count": 23,
   "id": "72c15c66-9cec-4293-bb6d-2dc2b38be5f2",
   "metadata": {
    "tags": []
   },
   "outputs": [
    {
     "data": {
      "text/plain": [
       "<AxesSubplot:title={'center':'GME'}, xlabel='Date'>"
      ]
     },
     "execution_count": 23,
     "metadata": {},
     "output_type": "execute_result"
    },
    {
     "data": {
      "image/png": "[encoded data removed]",
      "text/plain": [
       "<Figure size 640x480 with 1 Axes>"
      ]
     },
     "metadata": {},
     "output_type": "display_data"
    }
   ],
   "source": [
    "gme_share_price_data.plot(x=\"Date\", y=\"Open\", title=\"GME\")"
   ]
  },
  {
   "cell_type": "code",
   "execution_count": null,
   "id": "a0cc53c4-c04a-4470-bd05-8a5b758acd3a",
   "metadata": {},
   "outputs": [],
   "source": []
  }
 ],
 "metadata": {
  "kernelspec": {
   "display_name": "Python",
   "language": "python",
   "name": "conda-env-python-py"
  },
  "language_info": {
   "codemirror_mode": {
    "name": "ipython",
    "version": 3
   },
   "file_extension": ".py",
   "mimetype": "text/x-python",
   "name": "python",
   "nbconvert_exporter": "python",
   "pygments_lexer": "ipython3",
   "version": "3.7.12"
  }
 },
 "nbformat": 4,
 "nbformat_minor": 5
}
